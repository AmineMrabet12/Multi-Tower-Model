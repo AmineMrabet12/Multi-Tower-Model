{
 "cells": [
  {
   "cell_type": "code",
   "execution_count": 1,
   "metadata": {},
   "outputs": [],
   "source": [
    "import pandas as pd"
   ]
  },
  {
   "cell_type": "code",
   "execution_count": 57,
   "metadata": {},
   "outputs": [],
   "source": [
    "df = pd.read_csv('../data/movielens.csv')"
   ]
  },
  {
   "cell_type": "code",
   "execution_count": null,
   "metadata": {},
   "outputs": [],
   "source": [
    "df.head()"
   ]
  },
  {
   "cell_type": "code",
   "execution_count": 59,
   "metadata": {},
   "outputs": [],
   "source": [
    "def trim_col(x):\n",
    "    return x[2:-1]\n",
    "\n",
    "df['movie_title'] = df['movie_title'].apply(trim_col)\n",
    "df['movie_id'] = df['movie_id'].apply(trim_col)\n",
    "df['user_id'] = df['user_id'].apply(trim_col)\n",
    "df['user_occupation_text'] = df['user_occupation_text'].apply(trim_col)\n",
    "df['user_zip_code'] = df['user_zip_code'].apply(trim_col)"
   ]
  },
  {
   "cell_type": "code",
   "execution_count": 61,
   "metadata": {},
   "outputs": [],
   "source": [
    "def genre(x):\n",
    "    x = x[1:-1]\n",
    "    x = x.strip()\n",
    "    x = x.split(sep=' ')\n",
    "    l = list(filter(lambda x: x not in (None, \"\"), x))\n",
    "\n",
    "    return l"
   ]
  },
  {
   "cell_type": "code",
   "execution_count": 62,
   "metadata": {},
   "outputs": [],
   "source": [
    "df['movie_genres'] = df['movie_genres'].apply(genre)"
   ]
  },
  {
   "cell_type": "code",
   "execution_count": 63,
   "metadata": {},
   "outputs": [
    {
     "data": {
      "text/html": [
       "<div>\n",
       "<style scoped>\n",
       "    .dataframe tbody tr th:only-of-type {\n",
       "        vertical-align: middle;\n",
       "    }\n",
       "\n",
       "    .dataframe tbody tr th {\n",
       "        vertical-align: top;\n",
       "    }\n",
       "\n",
       "    .dataframe thead th {\n",
       "        text-align: right;\n",
       "    }\n",
       "</style>\n",
       "<table border=\"1\" class=\"dataframe\">\n",
       "  <thead>\n",
       "    <tr style=\"text-align: right;\">\n",
       "      <th></th>\n",
       "      <th>bucketized_user_age</th>\n",
       "      <th>movie_genres</th>\n",
       "      <th>movie_id</th>\n",
       "      <th>movie_title</th>\n",
       "      <th>raw_user_age</th>\n",
       "      <th>timestamp</th>\n",
       "      <th>user_gender</th>\n",
       "      <th>user_id</th>\n",
       "      <th>user_occupation_label</th>\n",
       "      <th>user_occupation_text</th>\n",
       "      <th>user_rating</th>\n",
       "      <th>user_zip_code</th>\n",
       "    </tr>\n",
       "  </thead>\n",
       "  <tbody>\n",
       "    <tr>\n",
       "      <th>0</th>\n",
       "      <td>45.0</td>\n",
       "      <td>[7]</td>\n",
       "      <td>357</td>\n",
       "      <td>One Flew Over the Cuckoo's Nest (1975)</td>\n",
       "      <td>46.0</td>\n",
       "      <td>879024327</td>\n",
       "      <td>True</td>\n",
       "      <td>138</td>\n",
       "      <td>4</td>\n",
       "      <td>doctor</td>\n",
       "      <td>4.0</td>\n",
       "      <td>53211</td>\n",
       "    </tr>\n",
       "    <tr>\n",
       "      <th>1</th>\n",
       "      <td>25.0</td>\n",
       "      <td>[4, 14]</td>\n",
       "      <td>709</td>\n",
       "      <td>Strictly Ballroom (1992)</td>\n",
       "      <td>32.0</td>\n",
       "      <td>875654590</td>\n",
       "      <td>True</td>\n",
       "      <td>92</td>\n",
       "      <td>5</td>\n",
       "      <td>entertainment</td>\n",
       "      <td>2.0</td>\n",
       "      <td>80525</td>\n",
       "    </tr>\n",
       "    <tr>\n",
       "      <th>2</th>\n",
       "      <td>18.0</td>\n",
       "      <td>[4]</td>\n",
       "      <td>412</td>\n",
       "      <td>Very Brady Sequel, A (1996)</td>\n",
       "      <td>24.0</td>\n",
       "      <td>882075110</td>\n",
       "      <td>True</td>\n",
       "      <td>301</td>\n",
       "      <td>17</td>\n",
       "      <td>student</td>\n",
       "      <td>4.0</td>\n",
       "      <td>55439</td>\n",
       "    </tr>\n",
       "    <tr>\n",
       "      <th>3</th>\n",
       "      <td>50.0</td>\n",
       "      <td>[5, 7]</td>\n",
       "      <td>56</td>\n",
       "      <td>Pulp Fiction (1994)</td>\n",
       "      <td>50.0</td>\n",
       "      <td>883326919</td>\n",
       "      <td>True</td>\n",
       "      <td>60</td>\n",
       "      <td>4</td>\n",
       "      <td>healthcare</td>\n",
       "      <td>4.0</td>\n",
       "      <td>06472</td>\n",
       "    </tr>\n",
       "    <tr>\n",
       "      <th>4</th>\n",
       "      <td>50.0</td>\n",
       "      <td>[10, 16]</td>\n",
       "      <td>895</td>\n",
       "      <td>Scream 2 (1997)</td>\n",
       "      <td>55.0</td>\n",
       "      <td>891409199</td>\n",
       "      <td>True</td>\n",
       "      <td>197</td>\n",
       "      <td>18</td>\n",
       "      <td>technician</td>\n",
       "      <td>3.0</td>\n",
       "      <td>75094</td>\n",
       "    </tr>\n",
       "    <tr>\n",
       "      <th>...</th>\n",
       "      <td>...</td>\n",
       "      <td>...</td>\n",
       "      <td>...</td>\n",
       "      <td>...</td>\n",
       "      <td>...</td>\n",
       "      <td>...</td>\n",
       "      <td>...</td>\n",
       "      <td>...</td>\n",
       "      <td>...</td>\n",
       "      <td>...</td>\n",
       "      <td>...</td>\n",
       "      <td>...</td>\n",
       "    </tr>\n",
       "    <tr>\n",
       "      <th>99995</th>\n",
       "      <td>25.0</td>\n",
       "      <td>[0, 1, 15]</td>\n",
       "      <td>228</td>\n",
       "      <td>Star Trek: The Wrath of Khan (1982)</td>\n",
       "      <td>30.0</td>\n",
       "      <td>888557237</td>\n",
       "      <td>True</td>\n",
       "      <td>774</td>\n",
       "      <td>17</td>\n",
       "      <td>student</td>\n",
       "      <td>4.0</td>\n",
       "      <td>80027</td>\n",
       "    </tr>\n",
       "    <tr>\n",
       "      <th>99996</th>\n",
       "      <td>35.0</td>\n",
       "      <td>[13, 16]</td>\n",
       "      <td>333</td>\n",
       "      <td>Game, The (1997)</td>\n",
       "      <td>41.0</td>\n",
       "      <td>891012877</td>\n",
       "      <td>True</td>\n",
       "      <td>313</td>\n",
       "      <td>14</td>\n",
       "      <td>marketing</td>\n",
       "      <td>4.0</td>\n",
       "      <td>60035</td>\n",
       "    </tr>\n",
       "    <tr>\n",
       "      <th>99997</th>\n",
       "      <td>18.0</td>\n",
       "      <td>[10]</td>\n",
       "      <td>567</td>\n",
       "      <td>Wes Craven's New Nightmare (1994)</td>\n",
       "      <td>19.0</td>\n",
       "      <td>879795430</td>\n",
       "      <td>False</td>\n",
       "      <td>262</td>\n",
       "      <td>17</td>\n",
       "      <td>student</td>\n",
       "      <td>1.0</td>\n",
       "      <td>78264</td>\n",
       "    </tr>\n",
       "    <tr>\n",
       "      <th>99998</th>\n",
       "      <td>35.0</td>\n",
       "      <td>[0, 10, 15, 16]</td>\n",
       "      <td>183</td>\n",
       "      <td>Alien (1979)</td>\n",
       "      <td>37.0</td>\n",
       "      <td>892839492</td>\n",
       "      <td>False</td>\n",
       "      <td>911</td>\n",
       "      <td>21</td>\n",
       "      <td>writer</td>\n",
       "      <td>4.0</td>\n",
       "      <td>53210</td>\n",
       "    </tr>\n",
       "    <tr>\n",
       "      <th>99999</th>\n",
       "      <td>18.0</td>\n",
       "      <td>[4]</td>\n",
       "      <td>1140</td>\n",
       "      <td>Road to Wellville, The (1994)</td>\n",
       "      <td>21.0</td>\n",
       "      <td>874791894</td>\n",
       "      <td>True</td>\n",
       "      <td>276</td>\n",
       "      <td>17</td>\n",
       "      <td>student</td>\n",
       "      <td>2.0</td>\n",
       "      <td>95064</td>\n",
       "    </tr>\n",
       "  </tbody>\n",
       "</table>\n",
       "<p>100000 rows × 12 columns</p>\n",
       "</div>"
      ],
      "text/plain": [
       "       bucketized_user_age     movie_genres movie_id  \\\n",
       "0                     45.0              [7]      357   \n",
       "1                     25.0          [4, 14]      709   \n",
       "2                     18.0              [4]      412   \n",
       "3                     50.0           [5, 7]       56   \n",
       "4                     50.0         [10, 16]      895   \n",
       "...                    ...              ...      ...   \n",
       "99995                 25.0       [0, 1, 15]      228   \n",
       "99996                 35.0         [13, 16]      333   \n",
       "99997                 18.0             [10]      567   \n",
       "99998                 35.0  [0, 10, 15, 16]      183   \n",
       "99999                 18.0              [4]     1140   \n",
       "\n",
       "                                  movie_title  raw_user_age  timestamp  \\\n",
       "0      One Flew Over the Cuckoo's Nest (1975)          46.0  879024327   \n",
       "1                    Strictly Ballroom (1992)          32.0  875654590   \n",
       "2                 Very Brady Sequel, A (1996)          24.0  882075110   \n",
       "3                         Pulp Fiction (1994)          50.0  883326919   \n",
       "4                             Scream 2 (1997)          55.0  891409199   \n",
       "...                                       ...           ...        ...   \n",
       "99995     Star Trek: The Wrath of Khan (1982)          30.0  888557237   \n",
       "99996                        Game, The (1997)          41.0  891012877   \n",
       "99997       Wes Craven's New Nightmare (1994)          19.0  879795430   \n",
       "99998                            Alien (1979)          37.0  892839492   \n",
       "99999           Road to Wellville, The (1994)          21.0  874791894   \n",
       "\n",
       "       user_gender user_id  user_occupation_label user_occupation_text  \\\n",
       "0             True     138                      4               doctor   \n",
       "1             True      92                      5        entertainment   \n",
       "2             True     301                     17              student   \n",
       "3             True      60                      4           healthcare   \n",
       "4             True     197                     18           technician   \n",
       "...            ...     ...                    ...                  ...   \n",
       "99995         True     774                     17              student   \n",
       "99996         True     313                     14            marketing   \n",
       "99997        False     262                     17              student   \n",
       "99998        False     911                     21               writer   \n",
       "99999         True     276                     17              student   \n",
       "\n",
       "       user_rating user_zip_code  \n",
       "0              4.0         53211  \n",
       "1              2.0         80525  \n",
       "2              4.0         55439  \n",
       "3              4.0         06472  \n",
       "4              3.0         75094  \n",
       "...            ...           ...  \n",
       "99995          4.0         80027  \n",
       "99996          4.0         60035  \n",
       "99997          1.0         78264  \n",
       "99998          4.0         53210  \n",
       "99999          2.0         95064  \n",
       "\n",
       "[100000 rows x 12 columns]"
      ]
     },
     "execution_count": 63,
     "metadata": {},
     "output_type": "execute_result"
    }
   ],
   "source": [
    "df.head()"
   ]
  },
  {
   "cell_type": "code",
   "execution_count": 82,
   "metadata": {},
   "outputs": [],
   "source": [
    "genre_map = {\n",
    "    0: 'Unknown',\n",
    "    1: 'Action',\n",
    "    2: 'Adventure',\n",
    "    3: 'Animation',\n",
    "    4: 'Children',\n",
    "    5: 'Comedy',\n",
    "    6: 'Crime',\n",
    "    7: 'Documentary',\n",
    "    8: 'Drama',\n",
    "    9: 'Fantasy',\n",
    "    10: 'Film-Noir',\n",
    "    11: 'Horror',\n",
    "    12: 'Musical',\n",
    "    13: 'Mystery',\n",
    "    14: 'Romance',\n",
    "    15: 'Sci-Fi',\n",
    "    16: 'Thriller',\n",
    "    17: 'War',\n",
    "    18: 'Western',\n",
    "    19: 'Other'\n",
    "}"
   ]
  },
  {
   "cell_type": "code",
   "execution_count": 83,
   "metadata": {},
   "outputs": [],
   "source": [
    "df[\"movie_genres\"] = df[\"movie_genres\"].apply(lambda ids: [genre_map[int(id)] for id in ids])"
   ]
  },
  {
   "cell_type": "code",
   "execution_count": 85,
   "metadata": {},
   "outputs": [
    {
     "data": {
      "text/html": [
       "<div>\n",
       "<style scoped>\n",
       "    .dataframe tbody tr th:only-of-type {\n",
       "        vertical-align: middle;\n",
       "    }\n",
       "\n",
       "    .dataframe tbody tr th {\n",
       "        vertical-align: top;\n",
       "    }\n",
       "\n",
       "    .dataframe thead th {\n",
       "        text-align: right;\n",
       "    }\n",
       "</style>\n",
       "<table border=\"1\" class=\"dataframe\">\n",
       "  <thead>\n",
       "    <tr style=\"text-align: right;\">\n",
       "      <th></th>\n",
       "      <th>bucketized_user_age</th>\n",
       "      <th>movie_genres</th>\n",
       "      <th>movie_id</th>\n",
       "      <th>movie_title</th>\n",
       "      <th>raw_user_age</th>\n",
       "      <th>timestamp</th>\n",
       "      <th>user_gender</th>\n",
       "      <th>user_id</th>\n",
       "      <th>user_occupation_label</th>\n",
       "      <th>user_occupation_text</th>\n",
       "      <th>user_rating</th>\n",
       "      <th>user_zip_code</th>\n",
       "    </tr>\n",
       "  </thead>\n",
       "  <tbody>\n",
       "    <tr>\n",
       "      <th>0</th>\n",
       "      <td>45.0</td>\n",
       "      <td>[Documentary]</td>\n",
       "      <td>357</td>\n",
       "      <td>One Flew Over the Cuckoo's Nest (1975)</td>\n",
       "      <td>46.0</td>\n",
       "      <td>879024327</td>\n",
       "      <td>True</td>\n",
       "      <td>138</td>\n",
       "      <td>4</td>\n",
       "      <td>doctor</td>\n",
       "      <td>4.0</td>\n",
       "      <td>53211</td>\n",
       "    </tr>\n",
       "    <tr>\n",
       "      <th>1</th>\n",
       "      <td>25.0</td>\n",
       "      <td>[Children, Romance]</td>\n",
       "      <td>709</td>\n",
       "      <td>Strictly Ballroom (1992)</td>\n",
       "      <td>32.0</td>\n",
       "      <td>875654590</td>\n",
       "      <td>True</td>\n",
       "      <td>92</td>\n",
       "      <td>5</td>\n",
       "      <td>entertainment</td>\n",
       "      <td>2.0</td>\n",
       "      <td>80525</td>\n",
       "    </tr>\n",
       "    <tr>\n",
       "      <th>2</th>\n",
       "      <td>18.0</td>\n",
       "      <td>[Children]</td>\n",
       "      <td>412</td>\n",
       "      <td>Very Brady Sequel, A (1996)</td>\n",
       "      <td>24.0</td>\n",
       "      <td>882075110</td>\n",
       "      <td>True</td>\n",
       "      <td>301</td>\n",
       "      <td>17</td>\n",
       "      <td>student</td>\n",
       "      <td>4.0</td>\n",
       "      <td>55439</td>\n",
       "    </tr>\n",
       "    <tr>\n",
       "      <th>3</th>\n",
       "      <td>50.0</td>\n",
       "      <td>[Comedy, Documentary]</td>\n",
       "      <td>56</td>\n",
       "      <td>Pulp Fiction (1994)</td>\n",
       "      <td>50.0</td>\n",
       "      <td>883326919</td>\n",
       "      <td>True</td>\n",
       "      <td>60</td>\n",
       "      <td>4</td>\n",
       "      <td>healthcare</td>\n",
       "      <td>4.0</td>\n",
       "      <td>06472</td>\n",
       "    </tr>\n",
       "    <tr>\n",
       "      <th>4</th>\n",
       "      <td>50.0</td>\n",
       "      <td>[Film-Noir, Thriller]</td>\n",
       "      <td>895</td>\n",
       "      <td>Scream 2 (1997)</td>\n",
       "      <td>55.0</td>\n",
       "      <td>891409199</td>\n",
       "      <td>True</td>\n",
       "      <td>197</td>\n",
       "      <td>18</td>\n",
       "      <td>technician</td>\n",
       "      <td>3.0</td>\n",
       "      <td>75094</td>\n",
       "    </tr>\n",
       "    <tr>\n",
       "      <th>...</th>\n",
       "      <td>...</td>\n",
       "      <td>...</td>\n",
       "      <td>...</td>\n",
       "      <td>...</td>\n",
       "      <td>...</td>\n",
       "      <td>...</td>\n",
       "      <td>...</td>\n",
       "      <td>...</td>\n",
       "      <td>...</td>\n",
       "      <td>...</td>\n",
       "      <td>...</td>\n",
       "      <td>...</td>\n",
       "    </tr>\n",
       "    <tr>\n",
       "      <th>99995</th>\n",
       "      <td>25.0</td>\n",
       "      <td>[Unknown, Action, Sci-Fi]</td>\n",
       "      <td>228</td>\n",
       "      <td>Star Trek: The Wrath of Khan (1982)</td>\n",
       "      <td>30.0</td>\n",
       "      <td>888557237</td>\n",
       "      <td>True</td>\n",
       "      <td>774</td>\n",
       "      <td>17</td>\n",
       "      <td>student</td>\n",
       "      <td>4.0</td>\n",
       "      <td>80027</td>\n",
       "    </tr>\n",
       "    <tr>\n",
       "      <th>99996</th>\n",
       "      <td>35.0</td>\n",
       "      <td>[Mystery, Thriller]</td>\n",
       "      <td>333</td>\n",
       "      <td>Game, The (1997)</td>\n",
       "      <td>41.0</td>\n",
       "      <td>891012877</td>\n",
       "      <td>True</td>\n",
       "      <td>313</td>\n",
       "      <td>14</td>\n",
       "      <td>marketing</td>\n",
       "      <td>4.0</td>\n",
       "      <td>60035</td>\n",
       "    </tr>\n",
       "    <tr>\n",
       "      <th>99997</th>\n",
       "      <td>18.0</td>\n",
       "      <td>[Film-Noir]</td>\n",
       "      <td>567</td>\n",
       "      <td>Wes Craven's New Nightmare (1994)</td>\n",
       "      <td>19.0</td>\n",
       "      <td>879795430</td>\n",
       "      <td>False</td>\n",
       "      <td>262</td>\n",
       "      <td>17</td>\n",
       "      <td>student</td>\n",
       "      <td>1.0</td>\n",
       "      <td>78264</td>\n",
       "    </tr>\n",
       "    <tr>\n",
       "      <th>99998</th>\n",
       "      <td>35.0</td>\n",
       "      <td>[Unknown, Film-Noir, Sci-Fi, Thriller]</td>\n",
       "      <td>183</td>\n",
       "      <td>Alien (1979)</td>\n",
       "      <td>37.0</td>\n",
       "      <td>892839492</td>\n",
       "      <td>False</td>\n",
       "      <td>911</td>\n",
       "      <td>21</td>\n",
       "      <td>writer</td>\n",
       "      <td>4.0</td>\n",
       "      <td>53210</td>\n",
       "    </tr>\n",
       "    <tr>\n",
       "      <th>99999</th>\n",
       "      <td>18.0</td>\n",
       "      <td>[Children]</td>\n",
       "      <td>1140</td>\n",
       "      <td>Road to Wellville, The (1994)</td>\n",
       "      <td>21.0</td>\n",
       "      <td>874791894</td>\n",
       "      <td>True</td>\n",
       "      <td>276</td>\n",
       "      <td>17</td>\n",
       "      <td>student</td>\n",
       "      <td>2.0</td>\n",
       "      <td>95064</td>\n",
       "    </tr>\n",
       "  </tbody>\n",
       "</table>\n",
       "<p>100000 rows × 12 columns</p>\n",
       "</div>"
      ],
      "text/plain": [
       "       bucketized_user_age                            movie_genres movie_id  \\\n",
       "0                     45.0                           [Documentary]      357   \n",
       "1                     25.0                     [Children, Romance]      709   \n",
       "2                     18.0                              [Children]      412   \n",
       "3                     50.0                   [Comedy, Documentary]       56   \n",
       "4                     50.0                   [Film-Noir, Thriller]      895   \n",
       "...                    ...                                     ...      ...   \n",
       "99995                 25.0               [Unknown, Action, Sci-Fi]      228   \n",
       "99996                 35.0                     [Mystery, Thriller]      333   \n",
       "99997                 18.0                             [Film-Noir]      567   \n",
       "99998                 35.0  [Unknown, Film-Noir, Sci-Fi, Thriller]      183   \n",
       "99999                 18.0                              [Children]     1140   \n",
       "\n",
       "                                  movie_title  raw_user_age  timestamp  \\\n",
       "0      One Flew Over the Cuckoo's Nest (1975)          46.0  879024327   \n",
       "1                    Strictly Ballroom (1992)          32.0  875654590   \n",
       "2                 Very Brady Sequel, A (1996)          24.0  882075110   \n",
       "3                         Pulp Fiction (1994)          50.0  883326919   \n",
       "4                             Scream 2 (1997)          55.0  891409199   \n",
       "...                                       ...           ...        ...   \n",
       "99995     Star Trek: The Wrath of Khan (1982)          30.0  888557237   \n",
       "99996                        Game, The (1997)          41.0  891012877   \n",
       "99997       Wes Craven's New Nightmare (1994)          19.0  879795430   \n",
       "99998                            Alien (1979)          37.0  892839492   \n",
       "99999           Road to Wellville, The (1994)          21.0  874791894   \n",
       "\n",
       "       user_gender user_id  user_occupation_label user_occupation_text  \\\n",
       "0             True     138                      4               doctor   \n",
       "1             True      92                      5        entertainment   \n",
       "2             True     301                     17              student   \n",
       "3             True      60                      4           healthcare   \n",
       "4             True     197                     18           technician   \n",
       "...            ...     ...                    ...                  ...   \n",
       "99995         True     774                     17              student   \n",
       "99996         True     313                     14            marketing   \n",
       "99997        False     262                     17              student   \n",
       "99998        False     911                     21               writer   \n",
       "99999         True     276                     17              student   \n",
       "\n",
       "       user_rating user_zip_code  \n",
       "0              4.0         53211  \n",
       "1              2.0         80525  \n",
       "2              4.0         55439  \n",
       "3              4.0         06472  \n",
       "4              3.0         75094  \n",
       "...            ...           ...  \n",
       "99995          4.0         80027  \n",
       "99996          4.0         60035  \n",
       "99997          1.0         78264  \n",
       "99998          4.0         53210  \n",
       "99999          2.0         95064  \n",
       "\n",
       "[100000 rows x 12 columns]"
      ]
     },
     "execution_count": 85,
     "metadata": {},
     "output_type": "execute_result"
    }
   ],
   "source": [
    "df.head()"
   ]
  },
  {
   "cell_type": "code",
   "execution_count": 98,
   "metadata": {},
   "outputs": [
    {
     "data": {
      "text/plain": [
       "user_gender\n",
       "True     74260\n",
       "False    25740\n",
       "Name: count, dtype: int64"
      ]
     },
     "execution_count": 98,
     "metadata": {},
     "output_type": "execute_result"
    }
   ],
   "source": [
    "df['user_gender'].value_counts()"
   ]
  },
  {
   "cell_type": "code",
   "execution_count": 84,
   "metadata": {},
   "outputs": [
    {
     "data": {
      "text/plain": [
       "bucketized_user_age      float64\n",
       "movie_genres              object\n",
       "movie_id                  object\n",
       "movie_title               object\n",
       "raw_user_age             float64\n",
       "timestamp                  int64\n",
       "user_gender                 bool\n",
       "user_id                   object\n",
       "user_occupation_label      int64\n",
       "user_occupation_text      object\n",
       "user_rating              float64\n",
       "user_zip_code             object\n",
       "dtype: object"
      ]
     },
     "execution_count": 84,
     "metadata": {},
     "output_type": "execute_result"
    }
   ],
   "source": [
    "df.dtypes"
   ]
  },
  {
   "cell_type": "code",
   "execution_count": 5,
   "metadata": {},
   "outputs": [
    {
     "data": {
      "text/plain": [
       "bucketized_user_age      0\n",
       "movie_genres             0\n",
       "movie_id                 0\n",
       "movie_title              0\n",
       "raw_user_age             0\n",
       "timestamp                0\n",
       "user_gender              0\n",
       "user_id                  0\n",
       "user_occupation_label    0\n",
       "user_occupation_text     0\n",
       "user_rating              0\n",
       "user_zip_code            0\n",
       "dtype: int64"
      ]
     },
     "execution_count": 5,
     "metadata": {},
     "output_type": "execute_result"
    }
   ],
   "source": [
    "df.isna().sum()"
   ]
  },
  {
   "cell_type": "code",
   "execution_count": 86,
   "metadata": {},
   "outputs": [],
   "source": [
    "from sklearn.preprocessing import MultiLabelBinarizer"
   ]
  },
  {
   "cell_type": "code",
   "execution_count": 87,
   "metadata": {},
   "outputs": [],
   "source": [
    "mlb = MultiLabelBinarizer()"
   ]
  },
  {
   "cell_type": "code",
   "execution_count": 88,
   "metadata": {},
   "outputs": [],
   "source": [
    "genres_encoded = mlb.fit_transform(df['movie_genres'])\n",
    "genres_df = pd.DataFrame(genres_encoded, columns=mlb.classes_)"
   ]
  },
  {
   "cell_type": "code",
   "execution_count": 94,
   "metadata": {},
   "outputs": [],
   "source": [
    "df = pd.concat([df, genres_df], axis=1).drop('movie_genres', axis=1)"
   ]
  },
  {
   "cell_type": "code",
   "execution_count": 101,
   "metadata": {},
   "outputs": [
    {
     "data": {
      "text/html": [
       "<div>\n",
       "<style scoped>\n",
       "    .dataframe tbody tr th:only-of-type {\n",
       "        vertical-align: middle;\n",
       "    }\n",
       "\n",
       "    .dataframe tbody tr th {\n",
       "        vertical-align: top;\n",
       "    }\n",
       "\n",
       "    .dataframe thead th {\n",
       "        text-align: right;\n",
       "    }\n",
       "</style>\n",
       "<table border=\"1\" class=\"dataframe\">\n",
       "  <thead>\n",
       "    <tr style=\"text-align: right;\">\n",
       "      <th></th>\n",
       "      <th>bucketized_user_age</th>\n",
       "      <th>movie_id</th>\n",
       "      <th>movie_title</th>\n",
       "      <th>raw_user_age</th>\n",
       "      <th>timestamp</th>\n",
       "      <th>user_gender</th>\n",
       "      <th>user_id</th>\n",
       "      <th>user_occupation_label</th>\n",
       "      <th>user_occupation_text</th>\n",
       "      <th>user_rating</th>\n",
       "      <th>...</th>\n",
       "      <th>Film-Noir</th>\n",
       "      <th>Musical</th>\n",
       "      <th>Mystery</th>\n",
       "      <th>Other</th>\n",
       "      <th>Romance</th>\n",
       "      <th>Sci-Fi</th>\n",
       "      <th>Thriller</th>\n",
       "      <th>Unknown</th>\n",
       "      <th>War</th>\n",
       "      <th>Western</th>\n",
       "    </tr>\n",
       "  </thead>\n",
       "  <tbody>\n",
       "    <tr>\n",
       "      <th>0</th>\n",
       "      <td>45.0</td>\n",
       "      <td>357</td>\n",
       "      <td>One Flew Over the Cuckoo's Nest (1975)</td>\n",
       "      <td>46.0</td>\n",
       "      <td>879024327</td>\n",
       "      <td>True</td>\n",
       "      <td>138</td>\n",
       "      <td>4</td>\n",
       "      <td>doctor</td>\n",
       "      <td>4.0</td>\n",
       "      <td>...</td>\n",
       "      <td>0</td>\n",
       "      <td>0</td>\n",
       "      <td>0</td>\n",
       "      <td>0</td>\n",
       "      <td>0</td>\n",
       "      <td>0</td>\n",
       "      <td>0</td>\n",
       "      <td>0</td>\n",
       "      <td>0</td>\n",
       "      <td>0</td>\n",
       "    </tr>\n",
       "    <tr>\n",
       "      <th>1</th>\n",
       "      <td>25.0</td>\n",
       "      <td>709</td>\n",
       "      <td>Strictly Ballroom (1992)</td>\n",
       "      <td>32.0</td>\n",
       "      <td>875654590</td>\n",
       "      <td>True</td>\n",
       "      <td>92</td>\n",
       "      <td>5</td>\n",
       "      <td>entertainment</td>\n",
       "      <td>2.0</td>\n",
       "      <td>...</td>\n",
       "      <td>0</td>\n",
       "      <td>0</td>\n",
       "      <td>0</td>\n",
       "      <td>0</td>\n",
       "      <td>1</td>\n",
       "      <td>0</td>\n",
       "      <td>0</td>\n",
       "      <td>0</td>\n",
       "      <td>0</td>\n",
       "      <td>0</td>\n",
       "    </tr>\n",
       "    <tr>\n",
       "      <th>2</th>\n",
       "      <td>18.0</td>\n",
       "      <td>412</td>\n",
       "      <td>Very Brady Sequel, A (1996)</td>\n",
       "      <td>24.0</td>\n",
       "      <td>882075110</td>\n",
       "      <td>True</td>\n",
       "      <td>301</td>\n",
       "      <td>17</td>\n",
       "      <td>student</td>\n",
       "      <td>4.0</td>\n",
       "      <td>...</td>\n",
       "      <td>0</td>\n",
       "      <td>0</td>\n",
       "      <td>0</td>\n",
       "      <td>0</td>\n",
       "      <td>0</td>\n",
       "      <td>0</td>\n",
       "      <td>0</td>\n",
       "      <td>0</td>\n",
       "      <td>0</td>\n",
       "      <td>0</td>\n",
       "    </tr>\n",
       "    <tr>\n",
       "      <th>3</th>\n",
       "      <td>50.0</td>\n",
       "      <td>56</td>\n",
       "      <td>Pulp Fiction (1994)</td>\n",
       "      <td>50.0</td>\n",
       "      <td>883326919</td>\n",
       "      <td>True</td>\n",
       "      <td>60</td>\n",
       "      <td>4</td>\n",
       "      <td>healthcare</td>\n",
       "      <td>4.0</td>\n",
       "      <td>...</td>\n",
       "      <td>0</td>\n",
       "      <td>0</td>\n",
       "      <td>0</td>\n",
       "      <td>0</td>\n",
       "      <td>0</td>\n",
       "      <td>0</td>\n",
       "      <td>0</td>\n",
       "      <td>0</td>\n",
       "      <td>0</td>\n",
       "      <td>0</td>\n",
       "    </tr>\n",
       "    <tr>\n",
       "      <th>4</th>\n",
       "      <td>50.0</td>\n",
       "      <td>895</td>\n",
       "      <td>Scream 2 (1997)</td>\n",
       "      <td>55.0</td>\n",
       "      <td>891409199</td>\n",
       "      <td>True</td>\n",
       "      <td>197</td>\n",
       "      <td>18</td>\n",
       "      <td>technician</td>\n",
       "      <td>3.0</td>\n",
       "      <td>...</td>\n",
       "      <td>1</td>\n",
       "      <td>0</td>\n",
       "      <td>0</td>\n",
       "      <td>0</td>\n",
       "      <td>0</td>\n",
       "      <td>0</td>\n",
       "      <td>1</td>\n",
       "      <td>0</td>\n",
       "      <td>0</td>\n",
       "      <td>0</td>\n",
       "    </tr>\n",
       "  </tbody>\n",
       "</table>\n",
       "<p>5 rows × 30 columns</p>\n",
       "</div>"
      ],
      "text/plain": [
       "   bucketized_user_age movie_id                             movie_title  \\\n",
       "0                 45.0      357  One Flew Over the Cuckoo's Nest (1975)   \n",
       "1                 25.0      709                Strictly Ballroom (1992)   \n",
       "2                 18.0      412             Very Brady Sequel, A (1996)   \n",
       "3                 50.0       56                     Pulp Fiction (1994)   \n",
       "4                 50.0      895                         Scream 2 (1997)   \n",
       "\n",
       "   raw_user_age  timestamp  user_gender user_id  user_occupation_label  \\\n",
       "0          46.0  879024327         True     138                      4   \n",
       "1          32.0  875654590         True      92                      5   \n",
       "2          24.0  882075110         True     301                     17   \n",
       "3          50.0  883326919         True      60                      4   \n",
       "4          55.0  891409199         True     197                     18   \n",
       "\n",
       "  user_occupation_text  user_rating  ... Film-Noir  Musical  Mystery  Other  \\\n",
       "0               doctor          4.0  ...         0        0        0      0   \n",
       "1        entertainment          2.0  ...         0        0        0      0   \n",
       "2              student          4.0  ...         0        0        0      0   \n",
       "3           healthcare          4.0  ...         0        0        0      0   \n",
       "4           technician          3.0  ...         1        0        0      0   \n",
       "\n",
       "   Romance  Sci-Fi  Thriller  Unknown  War  Western  \n",
       "0        0       0         0        0    0        0  \n",
       "1        1       0         0        0    0        0  \n",
       "2        0       0         0        0    0        0  \n",
       "3        0       0         0        0    0        0  \n",
       "4        0       0         1        0    0        0  \n",
       "\n",
       "[5 rows x 30 columns]"
      ]
     },
     "execution_count": 101,
     "metadata": {},
     "output_type": "execute_result"
    }
   ],
   "source": [
    "df.head()"
   ]
  },
  {
   "cell_type": "code",
   "execution_count": 102,
   "metadata": {},
   "outputs": [],
   "source": [
    "from sentence_transformers import SentenceTransformer"
   ]
  },
  {
   "cell_type": "code",
   "execution_count": 103,
   "metadata": {},
   "outputs": [
    {
     "data": {
      "application/vnd.jupyter.widget-view+json": {
       "model_id": "fcff661d78d9464980618caed35b5263",
       "version_major": 2,
       "version_minor": 0
      },
      "text/plain": [
       ".gitattributes:   0%|          | 0.00/1.23k [00:00<?, ?B/s]"
      ]
     },
     "metadata": {},
     "output_type": "display_data"
    },
    {
     "data": {
      "application/vnd.jupyter.widget-view+json": {
       "model_id": "060d6390b2c14af99f59519eb0d94c17",
       "version_major": 2,
       "version_minor": 0
      },
      "text/plain": [
       "1_Pooling/config.json:   0%|          | 0.00/190 [00:00<?, ?B/s]"
      ]
     },
     "metadata": {},
     "output_type": "display_data"
    },
    {
     "data": {
      "application/vnd.jupyter.widget-view+json": {
       "model_id": "a63c4c3d7a5c4c46a8751845fde0b888",
       "version_major": 2,
       "version_minor": 0
      },
      "text/plain": [
       "README.md:   0%|          | 0.00/10.7k [00:00<?, ?B/s]"
      ]
     },
     "metadata": {},
     "output_type": "display_data"
    },
    {
     "data": {
      "application/vnd.jupyter.widget-view+json": {
       "model_id": "c0fde166283e48428e4b59be954d5241",
       "version_major": 2,
       "version_minor": 0
      },
      "text/plain": [
       "config.json:   0%|          | 0.00/612 [00:00<?, ?B/s]"
      ]
     },
     "metadata": {},
     "output_type": "display_data"
    },
    {
     "data": {
      "application/vnd.jupyter.widget-view+json": {
       "model_id": "d8baee41c7bd44bab24aec8ce91b39a9",
       "version_major": 2,
       "version_minor": 0
      },
      "text/plain": [
       "config_sentence_transformers.json:   0%|          | 0.00/116 [00:00<?, ?B/s]"
      ]
     },
     "metadata": {},
     "output_type": "display_data"
    },
    {
     "data": {
      "application/vnd.jupyter.widget-view+json": {
       "model_id": "95e820b2043e41a280077525a648e784",
       "version_major": 2,
       "version_minor": 0
      },
      "text/plain": [
       "data_config.json:   0%|          | 0.00/39.3k [00:00<?, ?B/s]"
      ]
     },
     "metadata": {},
     "output_type": "display_data"
    },
    {
     "data": {
      "application/vnd.jupyter.widget-view+json": {
       "model_id": "0a597a4b8b314f3db0009792caaeaf7a",
       "version_major": 2,
       "version_minor": 0
      },
      "text/plain": [
       "model.safetensors:   0%|          | 0.00/90.9M [00:00<?, ?B/s]"
      ]
     },
     "metadata": {},
     "output_type": "display_data"
    },
    {
     "data": {
      "application/vnd.jupyter.widget-view+json": {
       "model_id": "9706a686207c4ffb8fb9b25532d21329",
       "version_major": 2,
       "version_minor": 0
      },
      "text/plain": [
       "model.onnx:   0%|          | 0.00/90.4M [00:00<?, ?B/s]"
      ]
     },
     "metadata": {},
     "output_type": "display_data"
    },
    {
     "data": {
      "application/vnd.jupyter.widget-view+json": {
       "model_id": "26372343a40c4819b2c5f65345396b33",
       "version_major": 2,
       "version_minor": 0
      },
      "text/plain": [
       "model_O1.onnx:   0%|          | 0.00/90.4M [00:00<?, ?B/s]"
      ]
     },
     "metadata": {},
     "output_type": "display_data"
    },
    {
     "data": {
      "application/vnd.jupyter.widget-view+json": {
       "model_id": "07c4f587dec24313a44d9dec66e30a10",
       "version_major": 2,
       "version_minor": 0
      },
      "text/plain": [
       "model_O2.onnx:   0%|          | 0.00/90.3M [00:00<?, ?B/s]"
      ]
     },
     "metadata": {},
     "output_type": "display_data"
    },
    {
     "data": {
      "application/vnd.jupyter.widget-view+json": {
       "model_id": "686a8568f380491b9287a605ff56ac98",
       "version_major": 2,
       "version_minor": 0
      },
      "text/plain": [
       "model_O3.onnx:   0%|          | 0.00/90.3M [00:00<?, ?B/s]"
      ]
     },
     "metadata": {},
     "output_type": "display_data"
    },
    {
     "data": {
      "application/vnd.jupyter.widget-view+json": {
       "model_id": "38e27052a87c4b318d1212c9cb15da74",
       "version_major": 2,
       "version_minor": 0
      },
      "text/plain": [
       "model_O4.onnx:   0%|          | 0.00/45.2M [00:00<?, ?B/s]"
      ]
     },
     "metadata": {},
     "output_type": "display_data"
    },
    {
     "data": {
      "application/vnd.jupyter.widget-view+json": {
       "model_id": "cc2201b96dd745d5a93c34a05d5cde83",
       "version_major": 2,
       "version_minor": 0
      },
      "text/plain": [
       "model_qint8_arm64.onnx:   0%|          | 0.00/23.0M [00:00<?, ?B/s]"
      ]
     },
     "metadata": {},
     "output_type": "display_data"
    },
    {
     "data": {
      "application/vnd.jupyter.widget-view+json": {
       "model_id": "1a864a9b4bf64652afdc8f71b63aa471",
       "version_major": 2,
       "version_minor": 0
      },
      "text/plain": [
       "model_qint8_avx512.onnx:   0%|          | 0.00/23.0M [00:00<?, ?B/s]"
      ]
     },
     "metadata": {},
     "output_type": "display_data"
    },
    {
     "data": {
      "application/vnd.jupyter.widget-view+json": {
       "model_id": "9acb124f8af4495db63ef7320cc36950",
       "version_major": 2,
       "version_minor": 0
      },
      "text/plain": [
       "model_qint8_avx512_vnni.onnx:   0%|          | 0.00/23.0M [00:00<?, ?B/s]"
      ]
     },
     "metadata": {},
     "output_type": "display_data"
    },
    {
     "data": {
      "application/vnd.jupyter.widget-view+json": {
       "model_id": "6eaff051887f4a848575cf066aa04050",
       "version_major": 2,
       "version_minor": 0
      },
      "text/plain": [
       "model_quint8_avx2.onnx:   0%|          | 0.00/23.0M [00:00<?, ?B/s]"
      ]
     },
     "metadata": {},
     "output_type": "display_data"
    },
    {
     "data": {
      "application/vnd.jupyter.widget-view+json": {
       "model_id": "1c009e6e7547472eb7624bb5ce3d7235",
       "version_major": 2,
       "version_minor": 0
      },
      "text/plain": [
       "openvino_model.bin:   0%|          | 0.00/90.3M [00:00<?, ?B/s]"
      ]
     },
     "metadata": {},
     "output_type": "display_data"
    },
    {
     "data": {
      "application/vnd.jupyter.widget-view+json": {
       "model_id": "27db93024aae424b8e0b86f8bdc33f6b",
       "version_major": 2,
       "version_minor": 0
      },
      "text/plain": [
       "openvino/openvino_model.xml:   0%|          | 0.00/211k [00:00<?, ?B/s]"
      ]
     },
     "metadata": {},
     "output_type": "display_data"
    },
    {
     "data": {
      "application/vnd.jupyter.widget-view+json": {
       "model_id": "7fb0561b8bdf4a049f640c9c5bd236ea",
       "version_major": 2,
       "version_minor": 0
      },
      "text/plain": [
       "openvino_model_qint8_quantized.bin:   0%|          | 0.00/22.9M [00:00<?, ?B/s]"
      ]
     },
     "metadata": {},
     "output_type": "display_data"
    },
    {
     "data": {
      "application/vnd.jupyter.widget-view+json": {
       "model_id": "d81f69ffe8324529be7fc9e5081beef1",
       "version_major": 2,
       "version_minor": 0
      },
      "text/plain": [
       "(…)nvino/openvino_model_qint8_quantized.xml:   0%|          | 0.00/368k [00:00<?, ?B/s]"
      ]
     },
     "metadata": {},
     "output_type": "display_data"
    },
    {
     "data": {
      "application/vnd.jupyter.widget-view+json": {
       "model_id": "46b59a233c2143c99144855dbc687e8f",
       "version_major": 2,
       "version_minor": 0
      },
      "text/plain": [
       "pytorch_model.bin:   0%|          | 0.00/90.9M [00:00<?, ?B/s]"
      ]
     },
     "metadata": {},
     "output_type": "display_data"
    },
    {
     "data": {
      "application/vnd.jupyter.widget-view+json": {
       "model_id": "f9f7d62f89aa486cb54dd2d9dcf053d2",
       "version_major": 2,
       "version_minor": 0
      },
      "text/plain": [
       "sentence_bert_config.json:   0%|          | 0.00/53.0 [00:00<?, ?B/s]"
      ]
     },
     "metadata": {},
     "output_type": "display_data"
    },
    {
     "data": {
      "application/vnd.jupyter.widget-view+json": {
       "model_id": "9f74c3aec1534bc9ba9614af37399b16",
       "version_major": 2,
       "version_minor": 0
      },
      "text/plain": [
       "special_tokens_map.json:   0%|          | 0.00/112 [00:00<?, ?B/s]"
      ]
     },
     "metadata": {},
     "output_type": "display_data"
    },
    {
     "data": {
      "application/vnd.jupyter.widget-view+json": {
       "model_id": "51a5a39708dc45a4bd289785eb3c78cc",
       "version_major": 2,
       "version_minor": 0
      },
      "text/plain": [
       "tokenizer.json:   0%|          | 0.00/466k [00:00<?, ?B/s]"
      ]
     },
     "metadata": {},
     "output_type": "display_data"
    },
    {
     "data": {
      "application/vnd.jupyter.widget-view+json": {
       "model_id": "3c1cb878220e4d3e874f5c482bfc60c1",
       "version_major": 2,
       "version_minor": 0
      },
      "text/plain": [
       "tokenizer_config.json:   0%|          | 0.00/350 [00:00<?, ?B/s]"
      ]
     },
     "metadata": {},
     "output_type": "display_data"
    },
    {
     "data": {
      "application/vnd.jupyter.widget-view+json": {
       "model_id": "f36127f2fcd24dd896778dfe006fa15f",
       "version_major": 2,
       "version_minor": 0
      },
      "text/plain": [
       "train_script.py:   0%|          | 0.00/13.2k [00:00<?, ?B/s]"
      ]
     },
     "metadata": {},
     "output_type": "display_data"
    },
    {
     "data": {
      "application/vnd.jupyter.widget-view+json": {
       "model_id": "4a3c9a28b854414ea074032fdd309215",
       "version_major": 2,
       "version_minor": 0
      },
      "text/plain": [
       "vocab.txt:   0%|          | 0.00/232k [00:00<?, ?B/s]"
      ]
     },
     "metadata": {},
     "output_type": "display_data"
    },
    {
     "data": {
      "application/vnd.jupyter.widget-view+json": {
       "model_id": "c89390b8733d4de09ce1ae0cb0210d26",
       "version_major": 2,
       "version_minor": 0
      },
      "text/plain": [
       "modules.json:   0%|          | 0.00/349 [00:00<?, ?B/s]"
      ]
     },
     "metadata": {},
     "output_type": "display_data"
    }
   ],
   "source": [
    "model = SentenceTransformer('sentence-transformers/all-MiniLM-L6-v2')"
   ]
  },
  {
   "cell_type": "code",
   "execution_count": null,
   "metadata": {},
   "outputs": [],
   "source": [
    "# This line of code kept running more than 20min so we moved to another optimezed solution in the next cell.\n",
    "\n",
    "# df['title_embedding'] = df['movie_title'].apply(lambda title: model.encode(title))"
   ]
  },
  {
   "cell_type": "code",
   "execution_count": 106,
   "metadata": {},
   "outputs": [
    {
     "data": {
      "text/plain": [
       "torch.Size([100000, 384])"
      ]
     },
     "execution_count": 106,
     "metadata": {},
     "output_type": "execute_result"
    }
   ],
   "source": [
    "embeddings = model.encode(df['movie_title'].tolist(), convert_to_tensor=True)\n",
    "embeddings.shape"
   ]
  },
  {
   "cell_type": "code",
   "execution_count": 107,
   "metadata": {},
   "outputs": [
    {
     "data": {
      "text/plain": [
       "tensor([[-0.0351,  0.0105, -0.0312,  ..., -0.0218, -0.0094,  0.0348],\n",
       "        [ 0.0086, -0.0072, -0.0644,  ...,  0.0253,  0.0306, -0.0308],\n",
       "        [-0.0321, -0.0142, -0.0637,  ...,  0.0862,  0.0505,  0.0244],\n",
       "        ...,\n",
       "        [-0.0351, -0.0501, -0.0722,  ..., -0.0219, -0.0168,  0.0162],\n",
       "        [-0.0337,  0.0383, -0.0397,  ...,  0.0653, -0.0048,  0.0151],\n",
       "        [-0.0404,  0.0470, -0.0209,  ...,  0.1131, -0.0211, -0.0109]])"
      ]
     },
     "execution_count": 107,
     "metadata": {},
     "output_type": "execute_result"
    }
   ],
   "source": [
    "embeddings"
   ]
  },
  {
   "cell_type": "code",
   "execution_count": 108,
   "metadata": {},
   "outputs": [],
   "source": [
    "embeddings_list = embeddings.tolist()\n",
    "df['title_embedding'] = embeddings_list"
   ]
  },
  {
   "cell_type": "code",
   "execution_count": 109,
   "metadata": {},
   "outputs": [],
   "source": [
    "embeddings_df = pd.DataFrame(df['title_embedding'].tolist(), index=df.index)"
   ]
  },
  {
   "cell_type": "code",
   "execution_count": 110,
   "metadata": {},
   "outputs": [],
   "source": [
    "df = pd.concat([df.drop(columns=['title_embedding']), embeddings_df], axis=1)"
   ]
  },
  {
   "cell_type": "code",
   "execution_count": 111,
   "metadata": {},
   "outputs": [
    {
     "data": {
      "text/html": [
       "<div>\n",
       "<style scoped>\n",
       "    .dataframe tbody tr th:only-of-type {\n",
       "        vertical-align: middle;\n",
       "    }\n",
       "\n",
       "    .dataframe tbody tr th {\n",
       "        vertical-align: top;\n",
       "    }\n",
       "\n",
       "    .dataframe thead th {\n",
       "        text-align: right;\n",
       "    }\n",
       "</style>\n",
       "<table border=\"1\" class=\"dataframe\">\n",
       "  <thead>\n",
       "    <tr style=\"text-align: right;\">\n",
       "      <th></th>\n",
       "      <th>bucketized_user_age</th>\n",
       "      <th>movie_id</th>\n",
       "      <th>movie_title</th>\n",
       "      <th>raw_user_age</th>\n",
       "      <th>timestamp</th>\n",
       "      <th>user_gender</th>\n",
       "      <th>user_id</th>\n",
       "      <th>user_occupation_label</th>\n",
       "      <th>user_occupation_text</th>\n",
       "      <th>user_rating</th>\n",
       "      <th>...</th>\n",
       "      <th>374</th>\n",
       "      <th>375</th>\n",
       "      <th>376</th>\n",
       "      <th>377</th>\n",
       "      <th>378</th>\n",
       "      <th>379</th>\n",
       "      <th>380</th>\n",
       "      <th>381</th>\n",
       "      <th>382</th>\n",
       "      <th>383</th>\n",
       "    </tr>\n",
       "  </thead>\n",
       "  <tbody>\n",
       "    <tr>\n",
       "      <th>0</th>\n",
       "      <td>45.0</td>\n",
       "      <td>357</td>\n",
       "      <td>One Flew Over the Cuckoo's Nest (1975)</td>\n",
       "      <td>46.0</td>\n",
       "      <td>879024327</td>\n",
       "      <td>True</td>\n",
       "      <td>138</td>\n",
       "      <td>4</td>\n",
       "      <td>doctor</td>\n",
       "      <td>4.0</td>\n",
       "      <td>...</td>\n",
       "      <td>-0.000059</td>\n",
       "      <td>0.028617</td>\n",
       "      <td>-0.006242</td>\n",
       "      <td>-0.010861</td>\n",
       "      <td>-0.026007</td>\n",
       "      <td>-0.070109</td>\n",
       "      <td>0.077629</td>\n",
       "      <td>-0.021817</td>\n",
       "      <td>-0.009381</td>\n",
       "      <td>0.034754</td>\n",
       "    </tr>\n",
       "    <tr>\n",
       "      <th>1</th>\n",
       "      <td>25.0</td>\n",
       "      <td>709</td>\n",
       "      <td>Strictly Ballroom (1992)</td>\n",
       "      <td>32.0</td>\n",
       "      <td>875654590</td>\n",
       "      <td>True</td>\n",
       "      <td>92</td>\n",
       "      <td>5</td>\n",
       "      <td>entertainment</td>\n",
       "      <td>2.0</td>\n",
       "      <td>...</td>\n",
       "      <td>-0.020182</td>\n",
       "      <td>-0.000871</td>\n",
       "      <td>-0.000600</td>\n",
       "      <td>0.060614</td>\n",
       "      <td>-0.050331</td>\n",
       "      <td>0.027037</td>\n",
       "      <td>0.017307</td>\n",
       "      <td>0.025332</td>\n",
       "      <td>0.030639</td>\n",
       "      <td>-0.030832</td>\n",
       "    </tr>\n",
       "    <tr>\n",
       "      <th>2</th>\n",
       "      <td>18.0</td>\n",
       "      <td>412</td>\n",
       "      <td>Very Brady Sequel, A (1996)</td>\n",
       "      <td>24.0</td>\n",
       "      <td>882075110</td>\n",
       "      <td>True</td>\n",
       "      <td>301</td>\n",
       "      <td>17</td>\n",
       "      <td>student</td>\n",
       "      <td>4.0</td>\n",
       "      <td>...</td>\n",
       "      <td>0.028449</td>\n",
       "      <td>0.011174</td>\n",
       "      <td>-0.009052</td>\n",
       "      <td>0.007225</td>\n",
       "      <td>-0.005080</td>\n",
       "      <td>0.015241</td>\n",
       "      <td>0.099558</td>\n",
       "      <td>0.086217</td>\n",
       "      <td>0.050451</td>\n",
       "      <td>0.024373</td>\n",
       "    </tr>\n",
       "    <tr>\n",
       "      <th>3</th>\n",
       "      <td>50.0</td>\n",
       "      <td>56</td>\n",
       "      <td>Pulp Fiction (1994)</td>\n",
       "      <td>50.0</td>\n",
       "      <td>883326919</td>\n",
       "      <td>True</td>\n",
       "      <td>60</td>\n",
       "      <td>4</td>\n",
       "      <td>healthcare</td>\n",
       "      <td>4.0</td>\n",
       "      <td>...</td>\n",
       "      <td>0.022719</td>\n",
       "      <td>0.018235</td>\n",
       "      <td>0.011511</td>\n",
       "      <td>0.137771</td>\n",
       "      <td>-0.051351</td>\n",
       "      <td>0.016533</td>\n",
       "      <td>0.010268</td>\n",
       "      <td>-0.001654</td>\n",
       "      <td>0.101332</td>\n",
       "      <td>0.017574</td>\n",
       "    </tr>\n",
       "    <tr>\n",
       "      <th>4</th>\n",
       "      <td>50.0</td>\n",
       "      <td>895</td>\n",
       "      <td>Scream 2 (1997)</td>\n",
       "      <td>55.0</td>\n",
       "      <td>891409199</td>\n",
       "      <td>True</td>\n",
       "      <td>197</td>\n",
       "      <td>18</td>\n",
       "      <td>technician</td>\n",
       "      <td>3.0</td>\n",
       "      <td>...</td>\n",
       "      <td>0.068550</td>\n",
       "      <td>0.025233</td>\n",
       "      <td>-0.034744</td>\n",
       "      <td>0.048030</td>\n",
       "      <td>-0.023011</td>\n",
       "      <td>0.035936</td>\n",
       "      <td>0.086280</td>\n",
       "      <td>-0.033038</td>\n",
       "      <td>0.083152</td>\n",
       "      <td>0.024514</td>\n",
       "    </tr>\n",
       "  </tbody>\n",
       "</table>\n",
       "<p>5 rows × 414 columns</p>\n",
       "</div>"
      ],
      "text/plain": [
       "   bucketized_user_age movie_id                             movie_title  \\\n",
       "0                 45.0      357  One Flew Over the Cuckoo's Nest (1975)   \n",
       "1                 25.0      709                Strictly Ballroom (1992)   \n",
       "2                 18.0      412             Very Brady Sequel, A (1996)   \n",
       "3                 50.0       56                     Pulp Fiction (1994)   \n",
       "4                 50.0      895                         Scream 2 (1997)   \n",
       "\n",
       "   raw_user_age  timestamp  user_gender user_id  user_occupation_label  \\\n",
       "0          46.0  879024327         True     138                      4   \n",
       "1          32.0  875654590         True      92                      5   \n",
       "2          24.0  882075110         True     301                     17   \n",
       "3          50.0  883326919         True      60                      4   \n",
       "4          55.0  891409199         True     197                     18   \n",
       "\n",
       "  user_occupation_text  user_rating  ...       374       375       376  \\\n",
       "0               doctor          4.0  ... -0.000059  0.028617 -0.006242   \n",
       "1        entertainment          2.0  ... -0.020182 -0.000871 -0.000600   \n",
       "2              student          4.0  ...  0.028449  0.011174 -0.009052   \n",
       "3           healthcare          4.0  ...  0.022719  0.018235  0.011511   \n",
       "4           technician          3.0  ...  0.068550  0.025233 -0.034744   \n",
       "\n",
       "        377       378       379       380       381       382       383  \n",
       "0 -0.010861 -0.026007 -0.070109  0.077629 -0.021817 -0.009381  0.034754  \n",
       "1  0.060614 -0.050331  0.027037  0.017307  0.025332  0.030639 -0.030832  \n",
       "2  0.007225 -0.005080  0.015241  0.099558  0.086217  0.050451  0.024373  \n",
       "3  0.137771 -0.051351  0.016533  0.010268 -0.001654  0.101332  0.017574  \n",
       "4  0.048030 -0.023011  0.035936  0.086280 -0.033038  0.083152  0.024514  \n",
       "\n",
       "[5 rows x 414 columns]"
      ]
     },
     "execution_count": 111,
     "metadata": {},
     "output_type": "execute_result"
    }
   ],
   "source": [
    "df.head()"
   ]
  },
  {
   "cell_type": "code",
   "execution_count": 2,
   "metadata": {},
   "outputs": [],
   "source": [
    "# synapses\n",
    "# NMF"
   ]
  },
  {
   "cell_type": "code",
   "execution_count": null,
   "metadata": {},
   "outputs": [],
   "source": []
  }
 ],
 "metadata": {
  "kernelspec": {
   "display_name": "deep",
   "language": "python",
   "name": "python3"
  },
  "language_info": {
   "codemirror_mode": {
    "name": "ipython",
    "version": 3
   },
   "file_extension": ".py",
   "mimetype": "text/x-python",
   "name": "python",
   "nbconvert_exporter": "python",
   "pygments_lexer": "ipython3",
   "version": "3.9.16"
  }
 },
 "nbformat": 4,
 "nbformat_minor": 2
}
