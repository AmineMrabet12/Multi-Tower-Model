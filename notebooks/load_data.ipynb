{
 "cells": [
  {
   "cell_type": "code",
   "execution_count": 2,
   "metadata": {},
   "outputs": [],
   "source": [
    "import tensorflow_datasets as tfds\n",
    "import pandas as pd"
   ]
  },
  {
   "cell_type": "code",
   "execution_count": 3,
   "metadata": {},
   "outputs": [
    {
     "name": "stderr",
     "output_type": "stream",
     "text": [
      "2024-11-05 21:48:19.542143: I metal_plugin/src/device/metal_device.cc:1154] Metal device set to: Apple M1 Pro\n",
      "2024-11-05 21:48:19.542187: I metal_plugin/src/device/metal_device.cc:296] systemMemory: 16.00 GB\n",
      "2024-11-05 21:48:19.542192: I metal_plugin/src/device/metal_device.cc:313] maxCacheSize: 5.33 GB\n",
      "2024-11-05 21:48:19.542464: I tensorflow/core/common_runtime/pluggable_device/pluggable_device_factory.cc:305] Could not identify NUMA node of platform GPU ID 0, defaulting to 0. Your kernel may not have been built with NUMA support.\n",
      "2024-11-05 21:48:19.542481: I tensorflow/core/common_runtime/pluggable_device/pluggable_device_factory.cc:271] Created TensorFlow device (/job:localhost/replica:0/task:0/device:GPU:0 with 0 MB memory) -> physical PluggableDevice (device: 0, name: METAL, pci bus id: <undefined>)\n"
     ]
    }
   ],
   "source": [
    "raw_data = tfds.load(\"movielens/100k-ratings\", split=\"train\")"
   ]
  },
  {
   "cell_type": "code",
   "execution_count": 4,
   "metadata": {},
   "outputs": [],
   "source": [
    "train_ds_raw, test_ds_raw = tfds.load(\"movielens/100k-ratings\", split=['train[:80%]', 'train[80%:]'])"
   ]
  },
  {
   "cell_type": "code",
   "execution_count": 8,
   "metadata": {},
   "outputs": [],
   "source": [
    "def tfds_to_dataframe(tf_dataset):\n",
    "\n",
    "    data = [example for example in tf_dataset]\n",
    "\n",
    "    data = [{key: value.numpy() for key, value in example.items()} for example in data]\n",
    "\n",
    "    return pd.DataFrame(data)"
   ]
  },
  {
   "cell_type": "code",
   "execution_count": 9,
   "metadata": {},
   "outputs": [
    {
     "name": "stderr",
     "output_type": "stream",
     "text": [
      "2024-11-05 21:41:07.957047: W tensorflow/core/framework/local_rendezvous.cc:404] Local rendezvous is aborting with status: OUT_OF_RANGE: End of sequence\n",
      "2024-11-05 21:41:17.940101: W tensorflow/core/framework/local_rendezvous.cc:404] Local rendezvous is aborting with status: OUT_OF_RANGE: End of sequence\n",
      "2024-11-05 21:41:21.655491: W tensorflow/core/framework/local_rendezvous.cc:404] Local rendezvous is aborting with status: OUT_OF_RANGE: End of sequence\n"
     ]
    }
   ],
   "source": [
    "raw_data_df = tfds_to_dataframe(raw_data)\n",
    "train_df = tfds_to_dataframe(train_ds_raw)\n",
    "test_df = tfds_to_dataframe(test_ds_raw)"
   ]
  },
  {
   "cell_type": "code",
   "execution_count": 10,
   "metadata": {},
   "outputs": [
    {
     "data": {
      "text/html": [
       "<div>\n",
       "<style scoped>\n",
       "    .dataframe tbody tr th:only-of-type {\n",
       "        vertical-align: middle;\n",
       "    }\n",
       "\n",
       "    .dataframe tbody tr th {\n",
       "        vertical-align: top;\n",
       "    }\n",
       "\n",
       "    .dataframe thead th {\n",
       "        text-align: right;\n",
       "    }\n",
       "</style>\n",
       "<table border=\"1\" class=\"dataframe\">\n",
       "  <thead>\n",
       "    <tr style=\"text-align: right;\">\n",
       "      <th></th>\n",
       "      <th>bucketized_user_age</th>\n",
       "      <th>movie_genres</th>\n",
       "      <th>movie_id</th>\n",
       "      <th>movie_title</th>\n",
       "      <th>raw_user_age</th>\n",
       "      <th>timestamp</th>\n",
       "      <th>user_gender</th>\n",
       "      <th>user_id</th>\n",
       "      <th>user_occupation_label</th>\n",
       "      <th>user_occupation_text</th>\n",
       "      <th>user_rating</th>\n",
       "      <th>user_zip_code</th>\n",
       "    </tr>\n",
       "  </thead>\n",
       "  <tbody>\n",
       "    <tr>\n",
       "      <th>0</th>\n",
       "      <td>45.0</td>\n",
       "      <td>[7]</td>\n",
       "      <td>b'357'</td>\n",
       "      <td>b\"One Flew Over the Cuckoo's Nest (1975)\"</td>\n",
       "      <td>46.0</td>\n",
       "      <td>879024327</td>\n",
       "      <td>True</td>\n",
       "      <td>b'138'</td>\n",
       "      <td>4</td>\n",
       "      <td>b'doctor'</td>\n",
       "      <td>4.0</td>\n",
       "      <td>b'53211'</td>\n",
       "    </tr>\n",
       "    <tr>\n",
       "      <th>1</th>\n",
       "      <td>25.0</td>\n",
       "      <td>[4, 14]</td>\n",
       "      <td>b'709'</td>\n",
       "      <td>b'Strictly Ballroom (1992)'</td>\n",
       "      <td>32.0</td>\n",
       "      <td>875654590</td>\n",
       "      <td>True</td>\n",
       "      <td>b'92'</td>\n",
       "      <td>5</td>\n",
       "      <td>b'entertainment'</td>\n",
       "      <td>2.0</td>\n",
       "      <td>b'80525'</td>\n",
       "    </tr>\n",
       "    <tr>\n",
       "      <th>2</th>\n",
       "      <td>18.0</td>\n",
       "      <td>[4]</td>\n",
       "      <td>b'412'</td>\n",
       "      <td>b'Very Brady Sequel, A (1996)'</td>\n",
       "      <td>24.0</td>\n",
       "      <td>882075110</td>\n",
       "      <td>True</td>\n",
       "      <td>b'301'</td>\n",
       "      <td>17</td>\n",
       "      <td>b'student'</td>\n",
       "      <td>4.0</td>\n",
       "      <td>b'55439'</td>\n",
       "    </tr>\n",
       "    <tr>\n",
       "      <th>3</th>\n",
       "      <td>50.0</td>\n",
       "      <td>[5, 7]</td>\n",
       "      <td>b'56'</td>\n",
       "      <td>b'Pulp Fiction (1994)'</td>\n",
       "      <td>50.0</td>\n",
       "      <td>883326919</td>\n",
       "      <td>True</td>\n",
       "      <td>b'60'</td>\n",
       "      <td>4</td>\n",
       "      <td>b'healthcare'</td>\n",
       "      <td>4.0</td>\n",
       "      <td>b'06472'</td>\n",
       "    </tr>\n",
       "    <tr>\n",
       "      <th>4</th>\n",
       "      <td>50.0</td>\n",
       "      <td>[10, 16]</td>\n",
       "      <td>b'895'</td>\n",
       "      <td>b'Scream 2 (1997)'</td>\n",
       "      <td>55.0</td>\n",
       "      <td>891409199</td>\n",
       "      <td>True</td>\n",
       "      <td>b'197'</td>\n",
       "      <td>18</td>\n",
       "      <td>b'technician'</td>\n",
       "      <td>3.0</td>\n",
       "      <td>b'75094'</td>\n",
       "    </tr>\n",
       "    <tr>\n",
       "      <th>...</th>\n",
       "      <td>...</td>\n",
       "      <td>...</td>\n",
       "      <td>...</td>\n",
       "      <td>...</td>\n",
       "      <td>...</td>\n",
       "      <td>...</td>\n",
       "      <td>...</td>\n",
       "      <td>...</td>\n",
       "      <td>...</td>\n",
       "      <td>...</td>\n",
       "      <td>...</td>\n",
       "      <td>...</td>\n",
       "    </tr>\n",
       "    <tr>\n",
       "      <th>79995</th>\n",
       "      <td>25.0</td>\n",
       "      <td>[4, 14, 16]</td>\n",
       "      <td>b'402'</td>\n",
       "      <td>b'Ghost (1990)'</td>\n",
       "      <td>31.0</td>\n",
       "      <td>891448697</td>\n",
       "      <td>False</td>\n",
       "      <td>b'269'</td>\n",
       "      <td>10</td>\n",
       "      <td>b'librarian'</td>\n",
       "      <td>2.0</td>\n",
       "      <td>b'43201'</td>\n",
       "    </tr>\n",
       "    <tr>\n",
       "      <th>79996</th>\n",
       "      <td>35.0</td>\n",
       "      <td>[13, 16]</td>\n",
       "      <td>b'603'</td>\n",
       "      <td>b'Rear Window (1954)'</td>\n",
       "      <td>35.0</td>\n",
       "      <td>881170528</td>\n",
       "      <td>True</td>\n",
       "      <td>b'744'</td>\n",
       "      <td>14</td>\n",
       "      <td>b'marketing'</td>\n",
       "      <td>5.0</td>\n",
       "      <td>b'47024'</td>\n",
       "    </tr>\n",
       "    <tr>\n",
       "      <th>79997</th>\n",
       "      <td>25.0</td>\n",
       "      <td>[7, 18]</td>\n",
       "      <td>b'318'</td>\n",
       "      <td>b\"Schindler's List (1993)\"</td>\n",
       "      <td>25.0</td>\n",
       "      <td>879572256</td>\n",
       "      <td>True</td>\n",
       "      <td>b'249'</td>\n",
       "      <td>17</td>\n",
       "      <td>b'student'</td>\n",
       "      <td>5.0</td>\n",
       "      <td>b'84103'</td>\n",
       "    </tr>\n",
       "    <tr>\n",
       "      <th>79998</th>\n",
       "      <td>45.0</td>\n",
       "      <td>[4]</td>\n",
       "      <td>b'524'</td>\n",
       "      <td>b'Great Dictator, The (1940)'</td>\n",
       "      <td>45.0</td>\n",
       "      <td>879434723</td>\n",
       "      <td>True</td>\n",
       "      <td>b'48'</td>\n",
       "      <td>2</td>\n",
       "      <td>b'administrator'</td>\n",
       "      <td>3.0</td>\n",
       "      <td>b'12550'</td>\n",
       "    </tr>\n",
       "    <tr>\n",
       "      <th>79999</th>\n",
       "      <td>56.0</td>\n",
       "      <td>[4, 18]</td>\n",
       "      <td>b'430'</td>\n",
       "      <td>b'Duck Soup (1933)'</td>\n",
       "      <td>60.0</td>\n",
       "      <td>887738717</td>\n",
       "      <td>True</td>\n",
       "      <td>b'308'</td>\n",
       "      <td>13</td>\n",
       "      <td>b'retired'</td>\n",
       "      <td>4.0</td>\n",
       "      <td>b'95076'</td>\n",
       "    </tr>\n",
       "  </tbody>\n",
       "</table>\n",
       "<p>80000 rows × 12 columns</p>\n",
       "</div>"
      ],
      "text/plain": [
       "       bucketized_user_age movie_genres movie_id  \\\n",
       "0                     45.0          [7]   b'357'   \n",
       "1                     25.0      [4, 14]   b'709'   \n",
       "2                     18.0          [4]   b'412'   \n",
       "3                     50.0       [5, 7]    b'56'   \n",
       "4                     50.0     [10, 16]   b'895'   \n",
       "...                    ...          ...      ...   \n",
       "79995                 25.0  [4, 14, 16]   b'402'   \n",
       "79996                 35.0     [13, 16]   b'603'   \n",
       "79997                 25.0      [7, 18]   b'318'   \n",
       "79998                 45.0          [4]   b'524'   \n",
       "79999                 56.0      [4, 18]   b'430'   \n",
       "\n",
       "                                     movie_title  raw_user_age  timestamp  \\\n",
       "0      b\"One Flew Over the Cuckoo's Nest (1975)\"          46.0  879024327   \n",
       "1                    b'Strictly Ballroom (1992)'          32.0  875654590   \n",
       "2                 b'Very Brady Sequel, A (1996)'          24.0  882075110   \n",
       "3                         b'Pulp Fiction (1994)'          50.0  883326919   \n",
       "4                             b'Scream 2 (1997)'          55.0  891409199   \n",
       "...                                          ...           ...        ...   \n",
       "79995                            b'Ghost (1990)'          31.0  891448697   \n",
       "79996                      b'Rear Window (1954)'          35.0  881170528   \n",
       "79997                 b\"Schindler's List (1993)\"          25.0  879572256   \n",
       "79998              b'Great Dictator, The (1940)'          45.0  879434723   \n",
       "79999                        b'Duck Soup (1933)'          60.0  887738717   \n",
       "\n",
       "       user_gender user_id  user_occupation_label user_occupation_text  \\\n",
       "0             True  b'138'                      4            b'doctor'   \n",
       "1             True   b'92'                      5     b'entertainment'   \n",
       "2             True  b'301'                     17           b'student'   \n",
       "3             True   b'60'                      4        b'healthcare'   \n",
       "4             True  b'197'                     18        b'technician'   \n",
       "...            ...     ...                    ...                  ...   \n",
       "79995        False  b'269'                     10         b'librarian'   \n",
       "79996         True  b'744'                     14         b'marketing'   \n",
       "79997         True  b'249'                     17           b'student'   \n",
       "79998         True   b'48'                      2     b'administrator'   \n",
       "79999         True  b'308'                     13           b'retired'   \n",
       "\n",
       "       user_rating user_zip_code  \n",
       "0              4.0      b'53211'  \n",
       "1              2.0      b'80525'  \n",
       "2              4.0      b'55439'  \n",
       "3              4.0      b'06472'  \n",
       "4              3.0      b'75094'  \n",
       "...            ...           ...  \n",
       "79995          2.0      b'43201'  \n",
       "79996          5.0      b'47024'  \n",
       "79997          5.0      b'84103'  \n",
       "79998          3.0      b'12550'  \n",
       "79999          4.0      b'95076'  \n",
       "\n",
       "[80000 rows x 12 columns]"
      ]
     },
     "execution_count": 10,
     "metadata": {},
     "output_type": "execute_result"
    }
   ],
   "source": [
    "train_df"
   ]
  },
  {
   "cell_type": "code",
   "execution_count": 12,
   "metadata": {},
   "outputs": [
    {
     "data": {
      "text/plain": [
       "user_id\n",
       "b'405'    578\n",
       "b'655'    527\n",
       "b'13'     505\n",
       "b'450'    439\n",
       "b'416'    405\n",
       "         ... \n",
       "b'512'     13\n",
       "b'572'     13\n",
       "b'516'     13\n",
       "b'132'     13\n",
       "b'631'     12\n",
       "Name: count, Length: 943, dtype: int64"
      ]
     },
     "execution_count": 12,
     "metadata": {},
     "output_type": "execute_result"
    }
   ],
   "source": [
    "train_df['user_id'].value_counts()"
   ]
  },
  {
   "cell_type": "code",
   "execution_count": 14,
   "metadata": {},
   "outputs": [
    {
     "data": {
      "text/plain": [
       "(100000, 12)"
      ]
     },
     "execution_count": 14,
     "metadata": {},
     "output_type": "execute_result"
    }
   ],
   "source": [
    "raw_data_df.shape"
   ]
  },
  {
   "cell_type": "code",
   "execution_count": 16,
   "metadata": {},
   "outputs": [],
   "source": [
    "raw_data_df.to_csv('../data/movielens.csv', index=False)"
   ]
  },
  {
   "cell_type": "code",
   "execution_count": null,
   "metadata": {},
   "outputs": [],
   "source": []
  }
 ],
 "metadata": {
  "kernelspec": {
   "display_name": "deep",
   "language": "python",
   "name": "python3"
  },
  "language_info": {
   "codemirror_mode": {
    "name": "ipython",
    "version": 3
   },
   "file_extension": ".py",
   "mimetype": "text/x-python",
   "name": "python",
   "nbconvert_exporter": "python",
   "pygments_lexer": "ipython3",
   "version": "3.9.16"
  }
 },
 "nbformat": 4,
 "nbformat_minor": 2
}
