{
 "cells": [
  {
   "cell_type": "code",
   "execution_count": 1,
   "metadata": {},
   "outputs": [],
   "source": [
    "l = [1, 2, 3, 4, 5, 6]"
   ]
  },
  {
   "cell_type": "code",
   "execution_count": 2,
   "metadata": {},
   "outputs": [
    {
     "name": "stdout",
     "output_type": "stream",
     "text": [
      "1\n",
      "2\n",
      "3\n",
      "4\n",
      "5\n",
      "6\n"
     ]
    }
   ],
   "source": [
    "for i in l:\n",
    "    print(i)"
   ]
  },
  {
   "cell_type": "code",
   "execution_count": null,
   "metadata": {},
   "outputs": [
    {
     "name": "stderr",
     "output_type": "stream",
     "text": [
      "2024-11-22 15:22:09.493248: I metal_plugin/src/device/metal_device.cc:1154] Metal device set to: Apple M1 Pro\n",
      "2024-11-22 15:22:09.493288: I metal_plugin/src/device/metal_device.cc:296] systemMemory: 16.00 GB\n",
      "2024-11-22 15:22:09.493294: I metal_plugin/src/device/metal_device.cc:313] maxCacheSize: 5.33 GB\n",
      "2024-11-22 15:22:09.493336: I tensorflow/core/common_runtime/pluggable_device/pluggable_device_factory.cc:305] Could not identify NUMA node of platform GPU ID 0, defaulting to 0. Your kernel may not have been built with NUMA support.\n",
      "2024-11-22 15:22:09.493350: I tensorflow/core/common_runtime/pluggable_device/pluggable_device_factory.cc:271] Created TensorFlow device (/job:localhost/replica:0/task:0/device:GPU:0 with 0 MB memory) -> physical PluggableDevice (device: 0, name: METAL, pci bus id: <undefined>)\n",
      "Listing Data:   0%|          | 0/100000 [00:00<?, ?it/s]"
     ]
    }
   ],
   "source": [
    "import tensorflow_datasets as tfds\n",
    "import pandas as pd\n",
    "from tqdm import tqdm\n",
    "\n",
    "\n",
    "raw_data = tfds.load(\"movielens/100k-ratings\", split=\"train\")\n",
    "train_ds_raw, test_ds_raw = tfds.load(\"movielens/100k-ratings\", split=['train[:80%]', 'train[80%:]'])\n",
    "\n",
    "def tfds_to_dataframe(tf_dataset):\n",
    "\n",
    "    data = [example for example in tqdm(tf_dataset, desc=\"Listing Data\")]\n",
    "\n",
    "    data = [{key: value.numpy() for key, value in example.items()} for example in tqdm(data, desc=\"Dicting Data\")]\n",
    "\n",
    "    return pd.DataFrame(data)\n",
    "\n",
    "raw_data_df = tfds_to_dataframe(raw_data)\n",
    "# train_df = tfds_to_dataframe(train_ds_raw)\n",
    "# test_df = tfds_to_dataframe(test_ds_raw)\n",
    "\n",
    "\n",
    "raw_data_df.to_csv('data/movielens-100k.csv', index=False)\n",
    "print('DataFrame is Saved in `data` folder')"
   ]
  },
  {
   "cell_type": "code",
   "execution_count": null,
   "metadata": {},
   "outputs": [
    {
     "name": "stderr",
     "output_type": "stream",
     "text": [
      "2024-11-22 14:58:22.905958: I metal_plugin/src/device/metal_device.cc:1154] Metal device set to: Apple M1 Pro\n",
      "2024-11-22 14:58:22.905990: I metal_plugin/src/device/metal_device.cc:296] systemMemory: 16.00 GB\n",
      "2024-11-22 14:58:22.905995: I metal_plugin/src/device/metal_device.cc:313] maxCacheSize: 5.33 GB\n",
      "2024-11-22 14:58:22.906010: I tensorflow/core/common_runtime/pluggable_device/pluggable_device_factory.cc:305] Could not identify NUMA node of platform GPU ID 0, defaulting to 0. Your kernel may not have been built with NUMA support.\n",
      "2024-11-22 14:58:22.906021: I tensorflow/core/common_runtime/pluggable_device/pluggable_device_factory.cc:271] Created TensorFlow device (/job:localhost/replica:0/task:0/device:GPU:0 with 0 MB memory) -> physical PluggableDevice (device: 0, name: METAL, pci bus id: <undefined>)\n",
      "Listing Data:   0%|          | 0/100000 [00:00<?, ?it/s]"
     ]
    }
   ],
   "source": [
    "import tensorflow_datasets as tfds\n",
    "import pandas as pd\n",
    "from tqdm import tqdm\n",
    "\n",
    "# Load the dataset with TensorFlow Datasets\n",
    "raw_data = tfds.load(\"movielens/100k-ratings\", split=\"train\")\n",
    "\n",
    "def tfds_to_dataframe(tf_dataset):\n",
    "    # Create a list of dictionaries from the tfds dataset\n",
    "    data = []\n",
    "    for example in tqdm(tf_dataset, desc=\"Listing Data\", total=len(tf_dataset)):\n",
    "        data.append({key: value.numpy() for key, value in example.items()})\n",
    "    \n",
    "    return pd.DataFrame(data)\n",
    "\n",
    "# Convert raw data to a DataFrame\n",
    "raw_data_df = tfds_to_dataframe(raw_data)\n",
    "\n",
    "# Save the DataFrame as a CSV\n",
    "raw_data_df.to_csv('data/movielens-100k.csv', index=False)\n",
    "print('DataFrame is Saved in `data` folder')"
   ]
  },
  {
   "cell_type": "code",
   "execution_count": null,
   "metadata": {},
   "outputs": [
    {
     "name": "stdout",
     "output_type": "stream",
     "text": [
      "Loading dataset...\n"
     ]
    },
    {
     "name": "stderr",
     "output_type": "stream",
     "text": [
      "2024-11-22 14:59:34.372491: I metal_plugin/src/device/metal_device.cc:1154] Metal device set to: Apple M1 Pro\n",
      "2024-11-22 14:59:34.372523: I metal_plugin/src/device/metal_device.cc:296] systemMemory: 16.00 GB\n",
      "2024-11-22 14:59:34.372528: I metal_plugin/src/device/metal_device.cc:313] maxCacheSize: 5.33 GB\n",
      "2024-11-22 14:59:34.372543: I tensorflow/core/common_runtime/pluggable_device/pluggable_device_factory.cc:305] Could not identify NUMA node of platform GPU ID 0, defaulting to 0. Your kernel may not have been built with NUMA support.\n",
      "2024-11-22 14:59:34.372556: I tensorflow/core/common_runtime/pluggable_device/pluggable_device_factory.cc:271] Created TensorFlow device (/job:localhost/replica:0/task:0/device:GPU:0 with 0 MB memory) -> physical PluggableDevice (device: 0, name: METAL, pci bus id: <undefined>)\n"
     ]
    },
    {
     "name": "stdout",
     "output_type": "stream",
     "text": [
      "Dataset loaded!\n"
     ]
    }
   ],
   "source": [
    "import tensorflow_datasets as tfds\n",
    "import pandas as pd\n",
    "\n",
    "print(\"Loading dataset...\")\n",
    "raw_data = tfds.load(\"movielens/100k-ratings\", split=\"train\")\n",
    "print(\"Dataset loaded!\")\n",
    "\n",
    "def tfds_to_dataframe(tf_dataset):\n",
    "    data = []\n",
    "    for example in tf_dataset:\n",
    "        data.append({key: value.numpy() for key, value in example.items()})\n",
    "    return pd.DataFrame(data)\n",
    "\n",
    "# Convert raw data to a DataFrame\n",
    "raw_data_df = tfds_to_dataframe(raw_data)\n",
    "\n",
    "# Save the DataFrame as a CSV\n",
    "raw_data_df.to_csv('data/movielens-100k.csv', index=False)\n",
    "print('DataFrame is Saved in `data` folder')\n"
   ]
  },
  {
   "cell_type": "code",
   "execution_count": null,
   "metadata": {},
   "outputs": [],
   "source": []
  }
 ],
 "metadata": {
  "kernelspec": {
   "display_name": "deep",
   "language": "python",
   "name": "python3"
  },
  "language_info": {
   "codemirror_mode": {
    "name": "ipython",
    "version": 3
   },
   "file_extension": ".py",
   "mimetype": "text/x-python",
   "name": "python",
   "nbconvert_exporter": "python",
   "pygments_lexer": "ipython3",
   "version": "3.9.16"
  }
 },
 "nbformat": 4,
 "nbformat_minor": 2
}
